{
 "cells": [
  {
   "cell_type": "code",
   "execution_count": 1,
   "metadata": {},
   "outputs": [
    {
     "name": "stderr",
     "output_type": "stream",
     "text": [
      "C:\\Anaconda3\\lib\\site-packages\\h5py\\__init__.py:34: FutureWarning: Conversion of the second argument of issubdtype from `float` to `np.floating` is deprecated. In future, it will be treated as `np.float64 == np.dtype(float).type`.\n",
      "  from ._conv import register_converters as _register_converters\n"
     ]
    },
    {
     "name": "stdout",
     "output_type": "stream",
     "text": [
      "训练集:魔数：2051   图像数量:60000   图像宽：28   图像长:28\n",
      "训练集:魔数：2049   标签数量:60000\n",
      "测试集:魔数：2051   图像数量:10000   图像宽：28   图像长:28\n",
      "测试集:魔数: 2049   标签数量:10000\n"
     ]
    }
   ],
   "source": [
    "\n",
    "import tensorflow as tf\n",
    "import numpy as np\n",
    "import pandas as pd\n",
    "from build_nn import fc_nn_tf as nn \n",
    "import parse_mnist as mnist\n",
    "train_x,train_label,test_x,test_label=mnist.parse_mnist_data()\n"
   ]
  },
  {
   "cell_type": "code",
   "execution_count": 3,
   "metadata": {},
   "outputs": [
    {
     "name": "stdout",
     "output_type": "stream",
     "text": [
      "训练集X:(784, 60000)\n",
      "训练集Y:(10, 60000)\n",
      "测试集X:(784, 10000)\n",
      "训练集Y:(10, 10000)\n"
     ]
    }
   ],
   "source": [
    "train_x_feature=train_x.T\n",
    "train_x_feature=train_x_feature/255\n",
    "train_y_label=train_label\n",
    "train_y_prob=nn.fc_nn().one_hot(Y=train_y_label,depth=10,axis=1)\n",
    "\n",
    "test_x_feature=test_x.T\n",
    "test_x_feature=test_x_feature/255\n",
    "test_y_label=test_label\n",
    "test_y_prob=nn.fc_nn().one_hot(Y=test_y_label,depth=10,axis=1)\n",
    "\n",
    "print('训练集X:'+str(train_x_feature.shape))\n",
    "print('训练集Y:'+str(train_y_prob.shape))\n",
    "\n",
    "print('测试集X:'+str(test_x_feature.shape))\n",
    "print('训练集Y:'+str(test_y_prob.shape))"
   ]
  },
  {
   "cell_type": "code",
   "execution_count": 3,
   "metadata": {},
   "outputs": [
    {
     "name": "stdout",
     "output_type": "stream",
     "text": [
      "fc_nn(iters=10,tol=0.001,batch_size=64,task_type=multi,learning_rate=0.003,learning_decay=True,learning_decay_rate=0.999,regularizer_type=l2,regularizer_rate=0.0015,optimizer=momentum,momentum=0.9,beta1=0.9,beta2=0.999,layer_dims=[100, 20, 10],active_functions=['relu', 'relu', 'softmax'],keep_probs=[1.0, 1.0, 1.0])\n",
      "over\n"
     ]
    }
   ],
   "source": [
    "model_nn_l2=nn.fc_nn(iters=10,\n",
    "                     learning_rate=0.003,\n",
    "                     batch_size=64,\n",
    "                     learning_decay=True,\n",
    "                     learning_decay_rate=0.999,\n",
    "                     layer_dims=[100,20,10],\n",
    "                     active_functions=['relu','relu','softmax'],\n",
    "                     keep_probs=[1.0, 1.0, 1.0],\n",
    "                     regularizer_rate=0.0015,     # 0.001\n",
    "                     regularizer_type='l2',\n",
    "                     optimizer='momentum',\n",
    "                     momentum=0.9,\n",
    "                     task_type='multi')\n",
    "print(model_nn_l2)\n",
    "model_nn_l2.fit({'X':train_x_feature,'Y':train_y_prob})\n",
    "print('over')"
   ]
  },
  {
   "cell_type": "code",
   "execution_count": 32,
   "metadata": {},
   "outputs": [
    {
     "name": "stdout",
     "output_type": "stream",
     "text": [
      "fc_nn(iters=1000,tol=0.001,batch_size=64,task_type=multi,regularizer_type=None,regularizer_rate=0.0001,optimizer=gd,learning_rate=0.005,learning_decay=False,learning_decay_rate=0.999,layer_dims=[20, 10, 10],active_functions=['relu', 'relu', 'softmax'],keep_probs=[1, 0.8, 1.0])\n"
     ]
    }
   ],
   "source": [
    "model_nn=nn.fc_nn(iters=1000,\n",
    "                  learning_rate=0.005,\n",
    "                  learning_decay=False,\n",
    "                  learning_decay_rate=0.999,\n",
    "                  layer_dims=[20, 10, 10],\n",
    "                  keep_probs=[1, 1.0, 1.0],\n",
    "                  regularizer_rate=0.0001,\n",
    "                  regularizer_type='None',\n",
    "                  optimizer='gd',\n",
    "                  task_type='multi')\n",
    "\n",
    "model_nn.fit({'X':train_x_feature,'Y':train_y_prob})\n",
    "print(model_nn)"
   ]
  },
  {
   "cell_type": "code",
   "execution_count": 37,
   "metadata": {},
   "outputs": [
    {
     "name": "stdout",
     "output_type": "stream",
     "text": [
      "训练集的准确度:0.9934\n",
      "测试集的准确度:0.9495\n"
     ]
    }
   ],
   "source": [
    "from sklearn.metrics import accuracy_score\n",
    "\n",
    "train_y_label_pred=model_nn.predict(X=train_x_feature)\n",
    "accuracy=accuracy_score(y_true=np.squeeze(train_y_label),\n",
    "                        y_pred=train_y_label_pred,\n",
    "                        normalize=True)\n",
    "accuracy=np.round(accuracy,4)\n",
    "print('训练集的准确度:'+str(accuracy))\n",
    "\n",
    "test_y_label_pred=model_nn.predict(X=test_x_feature)\n",
    "accuracy=accuracy_score(y_true=np.squeeze(test_y_label),\n",
    "                        y_pred=test_y_label_pred,\n",
    "                        normalize=True)\n",
    "\n",
    "accuracy=np.round(accuracy,4)\n",
    "print('测试集的准确度:'+str(accuracy))\n"
   ]
  },
  {
   "cell_type": "code",
   "execution_count": 59,
   "metadata": {},
   "outputs": [
    {
     "name": "stdout",
     "output_type": "stream",
     "text": [
      "regularizer_rate=0.003时，训练集的准确度:0.9698\n",
      "regularizer_rate=0.003时，测试集的准确度:0.9641\n",
      "regularizer_rate=0.0025时，训练集的准确度:0.9725\n",
      "regularizer_rate=0.0025时，测试集的准确度:0.9652\n",
      "regularizer_rate=0.002时，训练集的准确度:0.9752\n",
      "regularizer_rate=0.002时，测试集的准确度:0.9679\n",
      "regularizer_rate=0.0015时，训练集的准确度:0.9791\n",
      "regularizer_rate=0.0015时，测试集的准确度:0.9686\n",
      "regularizer_rate=0.001时，训练集的准确度:0.9829\n",
      "regularizer_rate=0.001时，测试集的准确度:0.9679\n"
     ]
    }
   ],
   "source": [
    "model_nn_l2=nn.fc_nn(iters=1000,\n",
    "                     learning_rate=0.005,\n",
    "                     learning_decay=False,\n",
    "                     learning_decay_rate=0.999,\n",
    "                     layer_dims=[20, 10, 10],\n",
    "                     keep_probs=[1, 1.0, 1.0],\n",
    "                     regularizer_rate=0.003,     # 0.001\n",
    "                     regularizer_type='l2',\n",
    "                     optimizer='gd',\n",
    "                     task_type='multi')\n",
    "\n",
    "model_nn_l2.fit({'X':train_x_feature,'Y':train_y_prob})\n",
    "#print(model_nn_l2)\n",
    "\n",
    "from sklearn.metrics import accuracy_score\n",
    "\n",
    "train_y_label_pred=model_nn_l2.predict(X=train_x_feature)\n",
    "accuracy=accuracy_score(y_true=np.squeeze(train_y_label),\n",
    "                        y_pred=train_y_label_pred,\n",
    "                        normalize=True)\n",
    "accuracy=np.round(accuracy,4)\n",
    "print('regularizer_rate='+str(model_nn_l2.regularizer_rate)+'时，训练集的准确度:'+str(accuracy))\n",
    "\n",
    "test_y_label_pred=model_nn_l2.predict(X=test_x_feature)\n",
    "accuracy=accuracy_score(y_true=np.squeeze(test_y_label),\n",
    "                        y_pred=test_y_label_pred,\n",
    "                        normalize=True)\n",
    "accuracy=np.round(accuracy,4)\n",
    "print('regularizer_rate='+str(model_nn_l2.regularizer_rate)+'时，测试集的准确度:'+str(accuracy))\n",
    "\n",
    "#-----------\n",
    "model_nn_l2.set_params(regularizer_rate=0.0025)\n",
    "model_nn_l2.fit({'X':train_x_feature,'Y':train_y_prob})\n",
    "\n",
    "from sklearn.metrics import accuracy_score\n",
    "\n",
    "train_y_label_pred=model_nn_l2.predict(X=train_x_feature)\n",
    "accuracy=accuracy_score(y_true=np.squeeze(train_y_label),\n",
    "                        y_pred=train_y_label_pred,\n",
    "                        normalize=True)\n",
    "accuracy=np.round(accuracy,4)\n",
    "print('regularizer_rate='+str(model_nn_l2.regularizer_rate)+'时，训练集的准确度:'+str(accuracy))\n",
    "\n",
    "test_y_label_pred=model_nn_l2.predict(X=test_x_feature)\n",
    "accuracy=accuracy_score(y_true=np.squeeze(test_y_label),\n",
    "                        y_pred=test_y_label_pred,\n",
    "                        normalize=True)\n",
    "accuracy=np.round(accuracy,4)\n",
    "print('regularizer_rate='+str(model_nn_l2.regularizer_rate)+'时，测试集的准确度:'+str(accuracy))\n",
    "\n",
    "#------------\n",
    "model_nn_l2.set_params(regularizer_rate=0.002)\n",
    "model_nn_l2.fit({'X':train_x_feature,'Y':train_y_prob})\n",
    "\n",
    "from sklearn.metrics import accuracy_score\n",
    "\n",
    "train_y_label_pred=model_nn_l2.predict(X=train_x_feature)\n",
    "accuracy=accuracy_score(y_true=np.squeeze(train_y_label),\n",
    "                        y_pred=train_y_label_pred,\n",
    "                        normalize=True)\n",
    "accuracy=np.round(accuracy,4)\n",
    "print('regularizer_rate='+str(model_nn_l2.regularizer_rate)+'时，训练集的准确度:'+str(accuracy))\n",
    "\n",
    "test_y_label_pred=model_nn_l2.predict(X=test_x_feature)\n",
    "accuracy=accuracy_score(y_true=np.squeeze(test_y_label),\n",
    "                        y_pred=test_y_label_pred,\n",
    "                        normalize=True)\n",
    "accuracy=np.round(accuracy,4)\n",
    "print('regularizer_rate='+str(model_nn_l2.regularizer_rate)+'时，测试集的准确度:'+str(accuracy))\n",
    "\n",
    "#--------------\n",
    "model_nn_l2.set_params(regularizer_rate=0.0015)\n",
    "model_nn_l2.fit({'X':train_x_feature,'Y':train_y_prob})\n",
    "\n",
    "from sklearn.metrics import accuracy_score\n",
    "\n",
    "train_y_label_pred=model_nn_l2.predict(X=train_x_feature)\n",
    "accuracy=accuracy_score(y_true=np.squeeze(train_y_label),\n",
    "                        y_pred=train_y_label_pred,\n",
    "                        normalize=True)\n",
    "accuracy=np.round(accuracy,4)\n",
    "print('regularizer_rate='+str(model_nn_l2.regularizer_rate)+'时，训练集的准确度:'+str(accuracy))\n",
    "\n",
    "test_y_label_pred=model_nn_l2.predict(X=test_x_feature)\n",
    "accuracy=accuracy_score(y_true=np.squeeze(test_y_label),\n",
    "                        y_pred=test_y_label_pred,\n",
    "                        normalize=True)\n",
    "accuracy=np.round(accuracy,4)\n",
    "print('regularizer_rate='+str(model_nn_l2.regularizer_rate)+'时，测试集的准确度:'+str(accuracy))\n",
    "\n",
    "#--------------model_nn_l2.set_params(regularizer_rate=0.0025)\n",
    "\n",
    "model_nn_l2.set_params(regularizer_rate=0.001)\n",
    "model_nn_l2.fit({'X':train_x_feature,'Y':train_y_prob})\n",
    "\n",
    "from sklearn.metrics import accuracy_score\n",
    "\n",
    "train_y_label_pred=model_nn_l2.predict(X=train_x_feature)\n",
    "accuracy=accuracy_score(y_true=np.squeeze(train_y_label),\n",
    "                        y_pred=train_y_label_pred,\n",
    "                        normalize=True)\n",
    "accuracy=np.round(accuracy,4)\n",
    "print('regularizer_rate='+str(model_nn_l2.regularizer_rate)+'时，训练集的准确度:'+str(accuracy))\n",
    "\n",
    "test_y_label_pred=model_nn_l2.predict(X=test_x_feature)\n",
    "accuracy=accuracy_score(y_true=np.squeeze(test_y_label),\n",
    "                        y_pred=test_y_label_pred,\n",
    "                        normalize=True)\n",
    "accuracy=np.round(accuracy,4)\n",
    "print('regularizer_rate='+str(model_nn_l2.regularizer_rate)+'时，测试集的准确度:'+str(accuracy))\n"
   ]
  },
  {
   "cell_type": "code",
   "execution_count": 5,
   "metadata": {},
   "outputs": [
    {
     "name": "stdout",
     "output_type": "stream",
     "text": [
      "regularizer_rate=0.003时，训练集的准确度:0.9702\n",
      "regularizer_rate=0.003时，测试集的准确度:0.9651\n",
      "regularizer_rate=0.0025时，训练集的准确度:0.9731\n",
      "regularizer_rate=0.0025时，测试集的准确度:0.9664\n",
      "regularizer_rate=0.002时，训练集的准确度:0.9759\n",
      "regularizer_rate=0.002时，测试集的准确度:0.9675\n",
      "regularizer_rate=0.0015时，训练集的准确度:0.9797\n",
      "regularizer_rate=0.0015时，测试集的准确度:0.9699\n",
      "regularizer_rate=0.001时，训练集的准确度:0.9839\n",
      "regularizer_rate=0.001时，测试集的准确度:0.97\n"
     ]
    }
   ],
   "source": [
    "model_nn_l2=nn.fc_nn(iters=2000,\n",
    "                     learning_rate=0.005,\n",
    "                     learning_decay=False,\n",
    "                     learning_decay_rate=0.999,\n",
    "                     layer_dims=[20, 10, 10],\n",
    "                     keep_probs=[1, 1.0, 1.0],\n",
    "                     regularizer_rate=0.003,     # 0.001\n",
    "                     regularizer_type='l2',\n",
    "                     optimizer='gd',\n",
    "                     task_type='multi')\n",
    "\n",
    "model_nn_l2.fit({'X':train_x_feature,'Y':train_y_prob})\n",
    "#print(model_nn_l2)\n",
    "\n",
    "from sklearn.metrics import accuracy_score\n",
    "\n",
    "train_y_label_pred=model_nn_l2.predict(X=train_x_feature)\n",
    "accuracy=accuracy_score(y_true=np.squeeze(train_y_label),\n",
    "                        y_pred=train_y_label_pred,\n",
    "                        normalize=True)\n",
    "accuracy=np.round(accuracy,4)\n",
    "print('regularizer_rate='+str(model_nn_l2.regularizer_rate)+'时，训练集的准确度:'+str(accuracy))\n",
    "\n",
    "test_y_label_pred=model_nn_l2.predict(X=test_x_feature)\n",
    "accuracy=accuracy_score(y_true=np.squeeze(test_y_label),\n",
    "                        y_pred=test_y_label_pred,\n",
    "                        normalize=True)\n",
    "accuracy=np.round(accuracy,4)\n",
    "print('regularizer_rate='+str(model_nn_l2.regularizer_rate)+'时，测试集的准确度:'+str(accuracy))\n",
    "\n",
    "#-----------\n",
    "model_nn_l2.set_params(regularizer_rate=0.0025)\n",
    "model_nn_l2.fit({'X':train_x_feature,'Y':train_y_prob})\n",
    "\n",
    "from sklearn.metrics import accuracy_score\n",
    "\n",
    "train_y_label_pred=model_nn_l2.predict(X=train_x_feature)\n",
    "accuracy=accuracy_score(y_true=np.squeeze(train_y_label),\n",
    "                        y_pred=train_y_label_pred,\n",
    "                        normalize=True)\n",
    "accuracy=np.round(accuracy,4)\n",
    "print('regularizer_rate='+str(model_nn_l2.regularizer_rate)+'时，训练集的准确度:'+str(accuracy))\n",
    "\n",
    "test_y_label_pred=model_nn_l2.predict(X=test_x_feature)\n",
    "accuracy=accuracy_score(y_true=np.squeeze(test_y_label),\n",
    "                        y_pred=test_y_label_pred,\n",
    "                        normalize=True)\n",
    "accuracy=np.round(accuracy,4)\n",
    "print('regularizer_rate='+str(model_nn_l2.regularizer_rate)+'时，测试集的准确度:'+str(accuracy))\n",
    "\n",
    "#------------\n",
    "model_nn_l2.set_params(regularizer_rate=0.002)\n",
    "model_nn_l2.fit({'X':train_x_feature,'Y':train_y_prob})\n",
    "\n",
    "from sklearn.metrics import accuracy_score\n",
    "\n",
    "train_y_label_pred=model_nn_l2.predict(X=train_x_feature)\n",
    "accuracy=accuracy_score(y_true=np.squeeze(train_y_label),\n",
    "                        y_pred=train_y_label_pred,\n",
    "                        normalize=True)\n",
    "accuracy=np.round(accuracy,4)\n",
    "print('regularizer_rate='+str(model_nn_l2.regularizer_rate)+'时，训练集的准确度:'+str(accuracy))\n",
    "\n",
    "test_y_label_pred=model_nn_l2.predict(X=test_x_feature)\n",
    "accuracy=accuracy_score(y_true=np.squeeze(test_y_label),\n",
    "                        y_pred=test_y_label_pred,\n",
    "                        normalize=True)\n",
    "accuracy=np.round(accuracy,4)\n",
    "print('regularizer_rate='+str(model_nn_l2.regularizer_rate)+'时，测试集的准确度:'+str(accuracy))\n",
    "\n",
    "#--------------\n",
    "model_nn_l2.set_params(regularizer_rate=0.0015)\n",
    "model_nn_l2.fit({'X':train_x_feature,'Y':train_y_prob})\n",
    "\n",
    "from sklearn.metrics import accuracy_score\n",
    "\n",
    "train_y_label_pred=model_nn_l2.predict(X=train_x_feature)\n",
    "accuracy=accuracy_score(y_true=np.squeeze(train_y_label),\n",
    "                        y_pred=train_y_label_pred,\n",
    "                        normalize=True)\n",
    "accuracy=np.round(accuracy,4)\n",
    "print('regularizer_rate='+str(model_nn_l2.regularizer_rate)+'时，训练集的准确度:'+str(accuracy))\n",
    "\n",
    "test_y_label_pred=model_nn_l2.predict(X=test_x_feature)\n",
    "accuracy=accuracy_score(y_true=np.squeeze(test_y_label),\n",
    "                        y_pred=test_y_label_pred,\n",
    "                        normalize=True)\n",
    "accuracy=np.round(accuracy,4)\n",
    "print('regularizer_rate='+str(model_nn_l2.regularizer_rate)+'时，测试集的准确度:'+str(accuracy))\n",
    "\n",
    "#--------------model_nn_l2.set_params(regularizer_rate=0.0025)\n",
    "\n",
    "model_nn_l2.set_params(regularizer_rate=0.001)\n",
    "model_nn_l2.fit({'X':train_x_feature,'Y':train_y_prob})\n",
    "\n",
    "from sklearn.metrics import accuracy_score\n",
    "\n",
    "train_y_label_pred=model_nn_l2.predict(X=train_x_feature)\n",
    "accuracy=accuracy_score(y_true=np.squeeze(train_y_label),\n",
    "                        y_pred=train_y_label_pred,\n",
    "                        normalize=True)\n",
    "accuracy=np.round(accuracy,4)\n",
    "print('regularizer_rate='+str(model_nn_l2.regularizer_rate)+'时，训练集的准确度:'+str(accuracy))\n",
    "\n",
    "test_y_label_pred=model_nn_l2.predict(X=test_x_feature)\n",
    "accuracy=accuracy_score(y_true=np.squeeze(test_y_label),\n",
    "                        y_pred=test_y_label_pred,\n",
    "                        normalize=True)\n",
    "accuracy=np.round(accuracy,4)\n",
    "print('regularizer_rate='+str(model_nn_l2.regularizer_rate)+'时，测试集的准确度:'+str(accuracy))\n"
   ]
  },
  {
   "cell_type": "code",
   "execution_count": 8,
   "metadata": {},
   "outputs": [
    {
     "name": "stdout",
     "output_type": "stream",
     "text": [
      "regularizer_rate=0.0015时，训练集的准确度:0.9805\n",
      "regularizer_rate=0.0015时，测试集的准确度:0.9699\n",
      "regularizer_rate=0.001时，训练集的准确度:0.9853\n",
      "regularizer_rate=0.001时，测试集的准确度:0.9705\n"
     ]
    }
   ],
   "source": [
    "model_nn_l2=nn.fc_nn(iters=10000,\n",
    "                     learning_rate=0.005,\n",
    "                     learning_decay=False,\n",
    "                     learning_decay_rate=0.999,\n",
    "                     layer_dims=[20, 10, 10],\n",
    "                     keep_probs=[1, 1.0, 1.0],\n",
    "                     regularizer_rate=0.0015,     # 0.001\n",
    "                     regularizer_type='l2',\n",
    "                     optimizer='gd',\n",
    "                     task_type='multi')\n",
    "\n",
    "model_nn_l2.fit({'X':train_x_feature,'Y':train_y_prob})\n",
    "#print(model_nn_l2)\n",
    "\n",
    "from sklearn.metrics import accuracy_score\n",
    "\n",
    "train_y_label_pred=model_nn_l2.predict(X=train_x_feature)\n",
    "accuracy=accuracy_score(y_true=np.squeeze(train_y_label),\n",
    "                        y_pred=train_y_label_pred,\n",
    "                        normalize=True)\n",
    "accuracy=np.round(accuracy,4)\n",
    "print('regularizer_rate='+str(model_nn_l2.regularizer_rate)+'时，训练集的准确度:'+str(accuracy))\n",
    "\n",
    "test_y_label_pred=model_nn_l2.predict(X=test_x_feature)\n",
    "accuracy=accuracy_score(y_true=np.squeeze(test_y_label),\n",
    "                        y_pred=test_y_label_pred,\n",
    "                        normalize=True)\n",
    "accuracy=np.round(accuracy,4)\n",
    "print('regularizer_rate='+str(model_nn_l2.regularizer_rate)+'时，测试集的准确度:'+str(accuracy))\n",
    "\n",
    "#-----------\n",
    "model_nn_l2.set_params(regularizer_rate=0.001)\n",
    "model_nn_l2.fit({'X':train_x_feature,'Y':train_y_prob})\n",
    "\n",
    "from sklearn.metrics import accuracy_score\n",
    "\n",
    "train_y_label_pred=model_nn_l2.predict(X=train_x_feature)\n",
    "accuracy=accuracy_score(y_true=np.squeeze(train_y_label),\n",
    "                        y_pred=train_y_label_pred,\n",
    "                        normalize=True)\n",
    "accuracy=np.round(accuracy,4)\n",
    "print('regularizer_rate='+str(model_nn_l2.regularizer_rate)+'时，训练集的准确度:'+str(accuracy))\n",
    "\n",
    "test_y_label_pred=model_nn_l2.predict(X=test_x_feature)\n",
    "accuracy=accuracy_score(y_true=np.squeeze(test_y_label),\n",
    "                        y_pred=test_y_label_pred,\n",
    "                        normalize=True)\n",
    "accuracy=np.round(accuracy,4)\n",
    "print('regularizer_rate='+str(model_nn_l2.regularizer_rate)+'时，测试集的准确度:'+str(accuracy))"
   ]
  },
  {
   "cell_type": "code",
   "execution_count": 13,
   "metadata": {},
   "outputs": [
    {
     "name": "stdout",
     "output_type": "stream",
     "text": [
      "regularizer_rate=0.0015时，训练集的准确度:0.9809\n",
      "regularizer_rate=0.0015时，测试集的准确度:0.9707\n"
     ]
    }
   ],
   "source": [
    "model_nn_l2=nn.fc_nn(iters=10000,\n",
    "                     learning_rate=0.003,\n",
    "                     batch_size=64,\n",
    "                     learning_decay=True,\n",
    "                     learning_decay_rate=0.999,\n",
    "                     layer_dims=[20, 10, 10],\n",
    "                     keep_probs=[1, 1.0, 1.0],\n",
    "                     regularizer_rate=0.0015,     # 0.001\n",
    "                     regularizer_type='l2',\n",
    "                     optimizer='momentum',\n",
    "                     momentum=0.9,\n",
    "                     task_type='multi')\n",
    "\n",
    "model_nn_l2.fit({'X':train_x_feature,'Y':train_y_prob})\n",
    "#print(model_nn_l2)\n",
    "\n",
    "from sklearn.metrics import accuracy_score\n",
    "\n",
    "train_y_label_pred=model_nn_l2.predict(X=train_x_feature)\n",
    "accuracy=accuracy_score(y_true=np.squeeze(train_y_label),\n",
    "                        y_pred=train_y_label_pred,\n",
    "                        normalize=True)\n",
    "accuracy=np.round(accuracy,4)\n",
    "print('regularizer_rate='+str(model_nn_l2.regularizer_rate)+'时，训练集的准确度:'+str(accuracy))\n",
    "\n",
    "test_y_label_pred=model_nn_l2.predict(X=test_x_feature)\n",
    "accuracy=accuracy_score(y_true=np.squeeze(test_y_label),\n",
    "                        y_pred=test_y_label_pred,\n",
    "                        normalize=True)\n",
    "accuracy=np.round(accuracy,4)\n",
    "print('regularizer_rate='+str(model_nn_l2.regularizer_rate)+'时，测试集的准确度:'+str(accuracy))"
   ]
  },
  {
   "cell_type": "code",
   "execution_count": 11,
   "metadata": {},
   "outputs": [
    {
     "name": "stdout",
     "output_type": "stream",
     "text": [
      "fc_nn(iters=1000,tol=0.001,batch_size=64,task_type=multi,learning_rate=0.003,learning_decay=True,learning_decay_rate=0.999,regularizer_type=l2,regularizer_rate=0.0015,optimizer=momentum,momentum=0.9,beta1=0.9,beta2=0.999,layer_dims=[20, 10, 10],active_functions=['relu', 'relu', 'softmax'],keep_probs=[1.0, 1.0, 1.0])\n",
      "regularizer_rate=0.0015时，训练集的准确度:0.9798\n",
      "regularizer_rate=0.0015时，测试集的准确度:0.97\n"
     ]
    }
   ],
   "source": [
    "model_nn_l2=nn.fc_nn(iters=1000,\n",
    "                     learning_rate=0.003,\n",
    "                     batch_size=64,\n",
    "                     learning_decay=True,\n",
    "                     learning_decay_rate=0.999,\n",
    "                     layer_dims=[20, 10, 10],\n",
    "                     keep_probs=[1.0, 1.0, 1.0],\n",
    "                     regularizer_rate=0.0015,     # 0.001\n",
    "                     regularizer_type='l2',\n",
    "                     optimizer='momentum',\n",
    "                     momentum=0.9,\n",
    "                     task_type='multi')\n",
    "print(model_nn_l2)\n",
    "model_nn_l2.fit({'X':train_x_feature,'Y':train_y_prob})\n",
    "\n",
    "from sklearn.metrics import accuracy_score\n",
    "\n",
    "train_y_label_pred=model_nn_l2.predict(X=train_x_feature)\n",
    "accuracy=accuracy_score(y_true=np.squeeze(train_y_label),\n",
    "                        y_pred=train_y_label_pred,\n",
    "                        normalize=True)\n",
    "accuracy=np.round(accuracy,4)\n",
    "print('regularizer_rate='+str(model_nn_l2.regularizer_rate)+'时，训练集的准确度:'+str(accuracy))\n",
    "\n",
    "test_y_label_pred=model_nn_l2.predict(X=test_x_feature)\n",
    "accuracy=accuracy_score(y_true=np.squeeze(test_y_label),\n",
    "                        y_pred=test_y_label_pred,\n",
    "                        normalize=True)\n",
    "accuracy=np.round(accuracy,4)\n",
    "print('regularizer_rate='+str(model_nn_l2.regularizer_rate)+'时，测试集的准确度:'+str(accuracy))"
   ]
  },
  {
   "cell_type": "code",
   "execution_count": 25,
   "metadata": {},
   "outputs": [
    {
     "name": "stdout",
     "output_type": "stream",
     "text": [
      "fc_nn(iters=2000,tol=0.001,batch_size=64,task_type=multi,learning_rate=0.003,learning_decay=True,learning_decay_rate=0.999,regularizer_type=l2,regularizer_rate=0.0015,optimizer=momentum,momentum=0.9,beta1=0.9,beta2=0.999,layer_dims=[100, 20, 10],active_functions=['relu', 'relu', 'softmax'],keep_probs=[1.0, 1.0, 1.0])\n",
      "regularizer_rate=0.0015时，训练集的准确度:0.9938\n",
      "regularizer_rate=0.0015时，测试集的准确度:0.9812\n"
     ]
    }
   ],
   "source": [
    "model_nn_l2=nn.fc_nn(iters=2000,\n",
    "                     learning_rate=0.003,\n",
    "                     batch_size=64,\n",
    "                     learning_decay=True,\n",
    "                     learning_decay_rate=0.999,\n",
    "                     layer_dims=[100,20,10],\n",
    "                     active_functions=['relu','relu','softmax'],\n",
    "                     keep_probs=[1.0, 1.0, 1.0],\n",
    "                     regularizer_rate=0.0015,     # 0.001\n",
    "                     regularizer_type='l2',\n",
    "                     optimizer='momentum',\n",
    "                     momentum=0.9,\n",
    "                     task_type='multi')\n",
    "print(model_nn_l2)\n",
    "model_nn_l2.fit({'X':train_x_feature,'Y':train_y_prob})\n",
    "\n",
    "from sklearn.metrics import accuracy_score\n",
    "\n",
    "train_y_label_pred=model_nn_l2.predict(X=train_x_feature)\n",
    "accuracy=accuracy_score(y_true=np.squeeze(train_y_label),\n",
    "                        y_pred=train_y_label_pred,\n",
    "                        normalize=True)\n",
    "accuracy=np.round(accuracy,4)\n",
    "print('regularizer_rate='+str(model_nn_l2.regularizer_rate)+'时，训练集的准确度:'+str(accuracy))\n",
    "\n",
    "test_y_label_pred=model_nn_l2.predict(X=test_x_feature)\n",
    "accuracy=accuracy_score(y_true=np.squeeze(test_y_label),\n",
    "                        y_pred=test_y_label_pred,\n",
    "                        normalize=True)\n",
    "accuracy=np.round(accuracy,4)\n",
    "print('regularizer_rate='+str(model_nn_l2.regularizer_rate)+'时，测试集的准确度:'+str(accuracy))"
   ]
  },
  {
   "cell_type": "code",
   "execution_count": 33,
   "metadata": {},
   "outputs": [
    {
     "name": "stdout",
     "output_type": "stream",
     "text": [
      "fc_nn(iters=3000,tol=0.001,batch_size=64,task_type=multi,learning_rate=0.003,learning_decay=True,learning_decay_rate=0.999,regularizer_type=l2,regularizer_rate=0.0015,optimizer=momentum,momentum=0.9,beta1=0.9,beta2=0.999,layer_dims=[100, 20, 10],active_functions=['relu', 'relu', 'softmax'],keep_probs=[1.0, 1.0, 1.0])\n",
      "regularizer_rate=0.0015时，训练集的准确度:0.9937\n",
      "regularizer_rate=0.0015时，测试集的准确度:0.9814\n"
     ]
    }
   ],
   "source": [
    "model_nn_l2=nn.fc_nn(iters=3000,\n",
    "                     learning_rate=0.003,\n",
    "                     batch_size=64,\n",
    "                     learning_decay=True,\n",
    "                     learning_decay_rate=0.999,\n",
    "                     layer_dims=[100,20,10],\n",
    "                     active_functions=['relu','relu','softmax'],\n",
    "                     keep_probs=[1.0, 1.0, 1.0],\n",
    "                     regularizer_rate=0.0015,     # 0.001\n",
    "                     regularizer_type='l2',\n",
    "                     optimizer='momentum',\n",
    "                     momentum=0.9,\n",
    "                     task_type='multi')\n",
    "print(model_nn_l2)\n",
    "model_nn_l2.fit({'X':train_x_feature,'Y':train_y_prob})\n",
    "\n",
    "from sklearn.metrics import accuracy_score\n",
    "\n",
    "train_y_label_pred=model_nn_l2.predict(X=train_x_feature)\n",
    "accuracy=accuracy_score(y_true=np.squeeze(train_y_label),\n",
    "                        y_pred=train_y_label_pred,\n",
    "                        normalize=True)\n",
    "accuracy=np.round(accuracy,4)\n",
    "print('regularizer_rate='+str(model_nn_l2.regularizer_rate)+'时，训练集的准确度:'+str(accuracy))\n",
    "\n",
    "test_y_label_pred=model_nn_l2.predict(X=test_x_feature)\n",
    "accuracy=accuracy_score(y_true=np.squeeze(test_y_label),\n",
    "                        y_pred=test_y_label_pred,\n",
    "                        normalize=True)\n",
    "accuracy=np.round(accuracy,4)\n",
    "print('regularizer_rate='+str(model_nn_l2.regularizer_rate)+'时，测试集的准确度:'+str(accuracy))"
   ]
  },
  {
   "cell_type": "code",
   "execution_count": 12,
   "metadata": {},
   "outputs": [
    {
     "name": "stdout",
     "output_type": "stream",
     "text": [
      "fc_nn(iters=5000,tol=0.001,batch_size=64,task_type=multi,learning_rate=0.003,learning_decay=True,learning_decay_rate=0.999,regularizer_type=l2,regularizer_rate=0.0015,optimizer=adam,momentum=0.9,beta1=0.9,beta2=0.999,layer_dims=[100, 50, 10],active_functions=['relu', 'relu', 'softmax'],keep_probs=[1.0, 1.0, 1.0])\n",
      "regularizer_rate=0.0015时，训练集的准确度:0.9902\n",
      "regularizer_rate=0.0015时，测试集的准确度:0.9789\n"
     ]
    }
   ],
   "source": [
    "model_nn_l2=nn.fc_nn(iters=5000,\n",
    "                     learning_rate=0.003,\n",
    "                     batch_size=64,\n",
    "                     learning_decay=True,\n",
    "                     learning_decay_rate=0.999,\n",
    "                     layer_dims=[100,50,10],\n",
    "                     active_functions=['relu','relu','softmax'],\n",
    "                     keep_probs=[1.0, 1.0, 1.0],\n",
    "                     regularizer_rate=0.0015,     # 0.001\n",
    "                     regularizer_type='l2',\n",
    "                     optimizer='adam',\n",
    "                     momentum=0.9,\n",
    "                     task_type='multi')\n",
    "\n",
    "model_nn_l2.fit({'X':train_x_feature,'Y':train_y_prob})\n",
    "print(model_nn_l2)\n",
    "\n",
    "\n",
    "from sklearn.metrics import accuracy_score\n",
    "\n",
    "train_y_label_pred=model_nn_l2.predict(X=train_x_feature)\n",
    "accuracy=accuracy_score(y_true=np.squeeze(train_y_label),\n",
    "                        y_pred=train_y_label_pred,\n",
    "                        normalize=True)\n",
    "accuracy=np.round(accuracy,4)\n",
    "print('regularizer_rate='+str(model_nn_l2.regularizer_rate)+'时，训练集的准确度:'+str(accuracy))\n",
    "\n",
    "\n",
    "test_y_label_pred=model_nn_l2.predict(X=test_x_feature)\n",
    "accuracy=accuracy_score(y_true=np.squeeze(test_y_label),\n",
    "                        y_pred=test_y_label_pred,\n",
    "                        normalize=True)\n",
    "accuracy=np.round(accuracy,4)\n",
    "print('regularizer_rate='+str(model_nn_l2.regularizer_rate)+'时，测试集的准确度:'+str(accuracy))"
   ]
  },
  {
   "cell_type": "code",
   "execution_count": 13,
   "metadata": {},
   "outputs": [
    {
     "name": "stdout",
     "output_type": "stream",
     "text": [
      "{'iter': [1, 10, 20, 30, 40, 50, 60, 70, 80, 90, 100, 110, 120, 130, 140, 150, 160, 170, 180, 190, 200, 210, 220, 230, 240, 250, 260, 270, 280, 290, 300, 310, 320, 330, 340, 350, 360, 370, 380, 390, 400, 410, 420, 430, 440, 450, 460, 470, 480, 490, 500, 510, 520, 530, 540, 550, 560, 570, 580, 590, 600, 610, 620, 630, 640, 650, 660, 670, 680, 690, 700, 710, 720, 730, 740, 750, 760, 770, 780, 790, 800, 810, 820, 830, 840, 850, 860, 870, 880, 890, 900, 910, 920, 930, 940, 950, 960, 970, 980, 990, 1000, 1010, 1020, 1030, 1040, 1050, 1060, 1070, 1080, 1090, 1100, 1110, 1120, 1130, 1140, 1150, 1160, 1170, 1180, 1190, 1200, 1210, 1220, 1230, 1240, 1250, 1260, 1270, 1280, 1290, 1300, 1310, 1320, 1330, 1340, 1350, 1360, 1370, 1380, 1390, 1400, 1410, 1420, 1430, 1440, 1450, 1460, 1470, 1480, 1490, 1500, 1510, 1520, 1530, 1540, 1550, 1560, 1570, 1580, 1590, 1600, 1610, 1620, 1630, 1640, 1650, 1660, 1670, 1680, 1690, 1700, 1710, 1720, 1730, 1740, 1750, 1760, 1770, 1780, 1790, 1800, 1810, 1820, 1830, 1840, 1850, 1860, 1870, 1880, 1890, 1900, 1910, 1920, 1930, 1940, 1950, 1960, 1970, 1980, 1990, 2000, 2010, 2020, 2030, 2040, 2050, 2060, 2070, 2080, 2090, 2100, 2110, 2120, 2130, 2140, 2150, 2160, 2170, 2180, 2190, 2200, 2210, 2220, 2230, 2240, 2250, 2260, 2270, 2280, 2290, 2300, 2310, 2320, 2330, 2340, 2350, 2360, 2370, 2380, 2390, 2400, 2410, 2420, 2430, 2440, 2450, 2460, 2470, 2480, 2490, 2500, 2510, 2520, 2530, 2540, 2550, 2560, 2570, 2580, 2590, 2600, 2610, 2620, 2630, 2640, 2650, 2660, 2670, 2680, 2690, 2700, 2710, 2720, 2730, 2740, 2750, 2760, 2770, 2780, 2790, 2800, 2810, 2820, 2830, 2840, 2850, 2860, 2870, 2880, 2890, 2900, 2910, 2920, 2930, 2940, 2950, 2960, 2970, 2980, 2990, 3000, 3010, 3020, 3030, 3040, 3050, 3060, 3070, 3080, 3090, 3100, 3110, 3120, 3130, 3140, 3150, 3160, 3170, 3180, 3190, 3200, 3210, 3220, 3230, 3240, 3250, 3260, 3270, 3280, 3290, 3300, 3310, 3320, 3330, 3340, 3350, 3360, 3370, 3380, 3390, 3400, 3410, 3420, 3430, 3440, 3450, 3460, 3470, 3480, 3490, 3500, 3510, 3520, 3530, 3540, 3550, 3560, 3570, 3580, 3590, 3600, 3610, 3620, 3630, 3640, 3650, 3660, 3670, 3680, 3690, 3700, 3710, 3720, 3730, 3740, 3750, 3760, 3770, 3780, 3790, 3800, 3810, 3820, 3830, 3840, 3850, 3860, 3870, 3880, 3890, 3900, 3910, 3920, 3930, 3940, 3950, 3960, 3970, 3980, 3990, 4000, 4010, 4020, 4030, 4040, 4050, 4060, 4070, 4080, 4090, 4100, 4110, 4120, 4130, 4140, 4150, 4160, 4170, 4180, 4190, 4200, 4210, 4220, 4230, 4240, 4250, 4260, 4270, 4280, 4290, 4300, 4310, 4320, 4330, 4340, 4350, 4360, 4370, 4380, 4390, 4400, 4410, 4420, 4430, 4440, 4450, 4460, 4470, 4480, 4490, 4500, 4510, 4520, 4530, 4540, 4550, 4560, 4570, 4580, 4590, 4600, 4610, 4620, 4630, 4640, 4650, 4660, 4670, 4680, 4690, 4700, 4710, 4720, 4730, 4740, 4750, 4760, 4770, 4780, 4790, 4800, 4810, 4820, 4830, 4840, 4850, 4860, 4870, 4880, 4890, 4900, 4910, 4920, 4930, 4940, 4950, 4960, 4970, 4980, 4990, 5000], 'cost': [0.44007, 0.271384, 0.23439, 0.184975, 0.209562, 0.223398, 0.247852, 0.260205, 0.270757, 0.201543, 0.200027, 0.207854, 0.215627, 0.221423, 0.19079, 0.215584, 0.2241, 0.192064, 0.207575, 0.203112, 0.214747, 0.215026, 0.212418, 0.19351, 0.192506, 0.210852, 0.206136, 0.183733, 0.208313, 0.190943, 0.194852, 0.214683, 0.202463, 0.197811, 0.201382, 0.200986, 0.204554, 0.209891, 0.190256, 0.171855, 0.187372, 0.185076, 0.167379, 0.181778, 0.171923, 0.174031, 0.176098, 0.197775, 0.181865, 0.175043, 0.179086, 0.19247, 0.203055, 0.193535, 0.186222, 0.191147, 0.198864, 0.191042, 0.174103, 0.186738, 0.181446, 0.171676, 0.177802, 0.167254, 0.17548, 0.173382, 0.160965, 0.166595, 0.181486, 0.168882, 0.166536, 0.162258, 0.159259, 0.160691, 0.156888, 0.15492, 0.154203, 0.154922, 0.146781, 0.158797, 0.157114, 0.152824, 0.148238, 0.150758, 0.146324, 0.150196, 0.149633, 0.148985, 0.150284, 0.152292, 0.150291, 0.153036, 0.15546, 0.148802, 0.145459, 0.147178, 0.144516, 0.148509, 0.14641, 0.145151, 0.1503, 0.148032, 0.1474, 0.149182, 0.148926, 0.148686, 0.148205, 0.144314, 0.147064, 0.147448, 0.144106, 0.144818, 0.144232, 0.146523, 0.145882, 0.148693, 0.145125, 0.148447, 0.143786, 0.142019, 0.144316, 0.142588, 0.142459, 0.141659, 0.145352, 0.142046, 0.143147, 0.141774, 0.143436, 0.145413, 0.144143, 0.142884, 0.143645, 0.144515, 0.139632, 0.142395, 0.144985, 0.142115, 0.138887, 0.143212, 0.139473, 0.140324, 0.141538, 0.139714, 0.140125, 0.14054, 0.141993, 0.140536, 0.13991, 0.139989, 0.139026, 0.13941, 0.139585, 0.13848, 0.138131, 0.137154, 0.13553, 0.136513, 0.135202, 0.136395, 0.13549, 0.137386, 0.137663, 0.136821, 0.13721, 0.135888, 0.135839, 0.136418, 0.136205, 0.137054, 0.136548, 0.135791, 0.134993, 0.134903, 0.134677, 0.134419, 0.133275, 0.134234, 0.133199, 0.133867, 0.133002, 0.133318, 0.132704, 0.133143, 0.132647, 0.132366, 0.1322, 0.131887, 0.132579, 0.131807, 0.131172, 0.130767, 0.130996, 0.13122, 0.13152, 0.131058, 0.131532, 0.131203, 0.131748, 0.130753, 0.130808, 0.130899, 0.130679, 0.130374, 0.130661, 0.130734, 0.130617, 0.130573, 0.13016, 0.130197, 0.129944, 0.129818, 0.130061, 0.129835, 0.130417, 0.129249, 0.129702, 0.129075, 0.128896, 0.129018, 0.12894, 0.129, 0.129588, 0.129036, 0.128614, 0.128483, 0.128738, 0.128663, 0.128846, 0.128728, 0.128058, 0.12806, 0.128386, 0.128312, 0.127596, 0.127459, 0.127516, 0.127953, 0.127256, 0.12754, 0.127835, 0.127391, 0.127894, 0.127782, 0.127266, 0.127914, 0.127035, 0.127245, 0.127452, 0.12739, 0.127152, 0.127313, 0.127202, 0.127334, 0.12741, 0.127223, 0.126824, 0.127107, 0.126835, 0.126904, 0.126564, 0.126809, 0.126908, 0.126956, 0.126688, 0.126547, 0.126552, 0.126555, 0.12636, 0.125953, 0.126026, 0.126063, 0.1261, 0.125801, 0.125613, 0.125816, 0.125724, 0.125685, 0.125691, 0.12555, 0.125799, 0.125395, 0.125411, 0.125627, 0.125772, 0.125392, 0.12554, 0.125676, 0.125549, 0.125345, 0.125449, 0.125552, 0.125673, 0.125757, 0.125535, 0.125709, 0.125554, 0.125755, 0.125384, 0.125207, 0.125172, 0.125195, 0.125033, 0.125199, 0.125207, 0.124949, 0.125243, 0.125048, 0.124935, 0.124965, 0.125091, 0.12494, 0.124896, 0.12487, 0.124942, 0.12489, 0.124843, 0.124843, 0.125103, 0.124765, 0.124677, 0.125023, 0.124797, 0.124652, 0.124522, 0.124832, 0.124727, 0.124857, 0.124631, 0.124607, 0.124781, 0.124582, 0.124706, 0.124799, 0.124822, 0.124717, 0.12477, 0.124637, 0.124843, 0.124671, 0.124721, 0.124702, 0.124578, 0.124682, 0.12477, 0.124639, 0.124576, 0.124657, 0.124649, 0.124637, 0.124543, 0.12442, 0.124354, 0.124527, 0.124177, 0.124267, 0.124224, 0.124148, 0.124163, 0.124192, 0.124174, 0.124281, 0.124212, 0.124246, 0.124077, 0.124114, 0.124112, 0.124163, 0.124036, 0.123996, 0.123972, 0.124025, 0.124031, 0.124075, 0.123909, 0.12407, 0.124009, 0.123887, 0.123932, 0.124034, 0.124027, 0.123983, 0.124036, 0.123993, 0.12396, 0.123933, 0.124008, 0.123794, 0.123747, 0.123782, 0.123816, 0.123896, 0.123757, 0.123806, 0.123791, 0.123779, 0.123849, 0.123706, 0.123692, 0.123665, 0.123673, 0.123837, 0.123752, 0.123782, 0.123721, 0.12362, 0.123609, 0.123674, 0.123707, 0.123786, 0.123769, 0.123689, 0.123691, 0.123705, 0.123717, 0.12373, 0.123704, 0.123782, 0.123702, 0.123787, 0.123843, 0.123748, 0.123811, 0.123777, 0.123874, 0.123865, 0.12384, 0.12382, 0.12389, 0.123904, 0.12385, 0.123743, 0.123743, 0.12384, 0.123821, 0.123842, 0.123797, 0.123801, 0.123843, 0.123812, 0.123751, 0.123804, 0.123735, 0.123818, 0.123739, 0.123769, 0.123785, 0.123732, 0.123811, 0.123816, 0.123896, 0.123787, 0.123868, 0.123695, 0.12382, 0.123703, 0.123645, 0.123792, 0.123732, 0.123757, 0.123785, 0.12376, 0.123734, 0.123723, 0.12374, 0.123703, 0.12372, 0.12372, 0.123721, 0.123784, 0.123696, 0.12362, 0.12374, 0.123663, 0.123669, 0.123631, 0.123585, 0.12367, 0.1236, 0.123656, 0.12363, 0.123541, 0.123557, 0.123573, 0.123533, 0.123549, 0.123521, 0.123496, 0.123442, 0.123482, 0.123434, 0.123405, 0.123366, 0.123399, 0.123332, 0.12329, 0.123292, 0.123307, 0.123298, 0.123247, 0.123207]}\n"
     ]
    }
   ],
   "source": [
    "print(model_nn_l2.cost)"
   ]
  },
  {
   "cell_type": "code",
   "execution_count": 5,
   "metadata": {},
   "outputs": [
    {
     "name": "stdout",
     "output_type": "stream",
     "text": [
      "[[0.0000000e+00 1.0000000e+00 9.9100958e-05]\n",
      " [0.0000000e+00 0.0000000e+00 6.8610822e-25]\n",
      " [0.0000000e+00 0.0000000e+00 5.3265396e-12]\n",
      " [4.2846513e-09 0.0000000e+00 4.4510021e-11]\n",
      " [0.0000000e+00 0.0000000e+00 9.9989450e-01]\n",
      " [1.0000000e+00 0.0000000e+00 4.2317097e-06]\n",
      " [0.0000000e+00 0.0000000e+00 2.3860048e-12]\n",
      " [0.0000000e+00 0.0000000e+00 2.0785302e-21]\n",
      " [0.0000000e+00 0.0000000e+00 2.4733262e-09]\n",
      " [0.0000000e+00 0.0000000e+00 2.2048030e-06]]\n",
      "[1. 1. 1.]\n"
     ]
    }
   ],
   "source": [
    "import numpy as np\n",
    "Y_prob=model_nn.predict_prob(X=X_temp)\n",
    "print(Y_prob[:,0:3])\n",
    "print(np.sum(Y_prob[:,0:3],axis=0))"
   ]
  },
  {
   "cell_type": "code",
   "execution_count": 6,
   "metadata": {},
   "outputs": [
    {
     "name": "stdout",
     "output_type": "stream",
     "text": [
      "{'all_loss': 0.296922, 'log_loss': 0.000268, 'l2_loss': 0.296655}\n"
     ]
    }
   ],
   "source": [
    "loss=model_nn.get_log_loss(labels=Y_temp,predictions=Y_prob)\n",
    "print(loss)"
   ]
  },
  {
   "cell_type": "code",
   "execution_count": 20,
   "metadata": {},
   "outputs": [
    {
     "name": "stdout",
     "output_type": "stream",
     "text": [
      "[5 0 4 1 9 2 1 3 1 4 3 5 3 6 1 7 2 8 6 9]\n",
      "[5 0 4 1 9 2 1 3 1 4 3 5 3 6 1 7 2 8 6 9]\n",
      "(2000,)\n",
      "(2000,)\n",
      "[5 0 4 ... 5 2 0]\n",
      "[5 0 4 ... 5 2 0]\n",
      "1.0\n"
     ]
    }
   ],
   "source": [
    "from sklearn.metrics import accuracy_score\n",
    "Y_labels=model_nn.predict(X=X_temp)\n",
    "print(Y_labels[0:20])\n",
    "print(np.squeeze(train_label)[0:20])\n",
    "\n",
    "print(Y_labels.shape)\n",
    "Y_true=np.squeeze(train_label[:,0:2000])\n",
    "print(Y_true.shape)\n",
    "\n",
    "print(Y_labels)\n",
    "print(Y_true)\n",
    "\n",
    "accuracy=accuracy_score(y_true=Y_true,y_pred=Y_labels,normalize=True)\n",
    "print(accuracy)"
   ]
  },
  {
   "cell_type": "code",
   "execution_count": 33,
   "metadata": {},
   "outputs": [
    {
     "name": "stdout",
     "output_type": "stream",
     "text": [
      "False\n"
     ]
    }
   ],
   "source": []
  }
 ],
 "metadata": {
  "kernelspec": {
   "display_name": "Python 3",
   "language": "python",
   "name": "python3"
  },
  "language_info": {
   "codemirror_mode": {
    "name": "ipython",
    "version": 3
   },
   "file_extension": ".py",
   "mimetype": "text/x-python",
   "name": "python",
   "nbconvert_exporter": "python",
   "pygments_lexer": "ipython3",
   "version": "3.6.2"
  }
 },
 "nbformat": 4,
 "nbformat_minor": 2
}
